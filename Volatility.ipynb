{
 "cells": [
  {
   "cell_type": "code",
   "execution_count": 1,
   "metadata": {},
   "outputs": [],
   "source": [
    "from itertools import product\n",
    "from collections import OrderedDict\n",
    "from pyCBT.data.providers.mt.pairs import get_mt_pairs\n",
    "from highcharts import Highchart\n",
    "\n",
    "import ffn\n",
    "\n",
    "np = ffn.core.np\n",
    "pd = ffn.data.pd\n",
    "plt = ffn.core.plt"
   ]
  },
  {
   "cell_type": "code",
   "execution_count": 2,
   "metadata": {},
   "outputs": [],
   "source": [
    "# define constants\n",
    "# time frame in periods/minutes (because data is sampled in minutes)\n",
    "TIME_FRAMES = [21, 63, 252]\n",
    "# define target price\n",
    "PRICE = \"CLOSE\"\n",
    "# define volume column\n",
    "VOLUME = \"VOLUME\"\n",
    "\n",
    "# load data pairs\n",
    "pairs = get_mt_pairs()"
   ]
  },
  {
   "cell_type": "code",
   "execution_count": 3,
   "metadata": {},
   "outputs": [],
   "source": [
    "# volatility = pd.DataFrame(index=sorted(pairs.keys()), columns=TIME_FRAMES)\n",
    "# for symbol, tf in product(sorted(pairs.keys()), TIME_FRAMES):\n",
    "#     sample = pairs[symbol].get(PRICE)[-tf:]\n",
    "#     mean = np.mean(sample)\n",
    "#     stdd = np.std(sample)\n",
    "\n",
    "#     volatility.loc[symbol][tf] = stdd / mean * 100.0"
   ]
  },
  {
   "cell_type": "code",
   "execution_count": 4,
   "metadata": {},
   "outputs": [],
   "source": [
    "inp_currency = \"EUR\"\n",
    "\n",
    "def volatility_bars(inp_currency, pairs):\n",
    "    chart_categories = filter(lambda x: inp_currency in x, sorted(pairs.keys()))\n",
    "\n",
    "    chart_options = {\n",
    "        'chart': {\n",
    "            'type': 'columnrange',\n",
    "            'inverted': True\n",
    "        },\n",
    "\n",
    "        'title': {\n",
    "            'text': inp_currency\n",
    "        },\n",
    "\n",
    "        'xAxis': {\n",
    "            'categories': chart_categories\n",
    "        },\n",
    "\n",
    "        'yAxis': {\n",
    "            'title': {\n",
    "                'text': 'Volatility'\n",
    "            }\n",
    "        },\n",
    "\n",
    "        'tooltip': {\n",
    "            'valueSuffix': '%'\n",
    "        },\n",
    "\n",
    "        'plotOptions': {\n",
    "            'columnrange': {\n",
    "                'dataLabels': {\n",
    "                    'enabled': True,\n",
    "                    'format': '{y}%'\n",
    "                }\n",
    "            }\n",
    "        },\n",
    "\n",
    "        'legend': {\n",
    "            'enabled': False\n",
    "        }\n",
    "    }\n",
    "\n",
    "    chart_dataset = []\n",
    "    for symbol in chart_categories:\n",
    "        sample = pairs[symbol].get(PRICE)[-21*1000:]\n",
    "        mu = np.median(sample)\n",
    "        sg = np.percentile(sample, [16, 84])\n",
    "\n",
    "        chart_dataset += [[round((sg[0]/mu-1)*100, 2), round((sg[1]/mu-1)*100, 2)]]\n",
    "\n",
    "    chart = Highchart()\n",
    "    chart.set_dict_options(chart_options)\n",
    "    chart.add_data_set(chart_dataset, \"columnrange\", name=\"Volatility\")\n",
    "    return chart"
   ]
  },
  {
   "cell_type": "code",
   "execution_count": 5,
   "metadata": {},
   "outputs": [
    {
     "data": {
      "text/html": [
       "<iframe style=\"border:0;outline:none;overflow:hidden\" srcdoc=\"&lt;!DOCTYPE html&gt; &lt;html lang=&quot;en&quot;&gt; &lt;head&gt; &lt;meta charset=&quot;utf-8&quot; /&gt; &lt;link href=&quot;https://www.highcharts.com/highslide/highslide.css&quot; rel=&quot;stylesheet&quot; /&gt; &lt;script type=&quot;text/javascript&quot; src=&quot;https://ajax.googleapis.com/ajax/libs/jquery/1.9.1/jquery.min.js&quot;&gt;&lt;/script&gt; &lt;script type=&quot;text/javascript&quot; src=&quot;https://code.highcharts.com/highcharts.js&quot;&gt;&lt;/script&gt; &lt;script type=&quot;text/javascript&quot; src=&quot;https://code.highcharts.com/highcharts-more.js&quot;&gt;&lt;/script&gt; &lt;script type=&quot;text/javascript&quot; src=&quot;https://code.highcharts.com/modules/heatmap.js&quot;&gt;&lt;/script&gt; &lt;script type=&quot;text/javascript&quot; src=&quot;https://code.highcharts.com/modules/exporting.js&quot;&gt;&lt;/script&gt; &lt;/head&gt; &lt;body style=&quot;margin:0;padding:0&quot;&gt; &lt;div id=&quot;container&quot; style=&quot;&quot;&gt;Loading....&lt;/div&gt; &lt;script&gt; $(function(){ Highcharts.setOptions({&quot;lang&quot;: {}, &quot;global&quot;: {}}); var option = {&quot;loading&quot;: {}, &quot;subtitle&quot;: {}, &quot;xAxis&quot;: {&quot;categories&quot;: [&quot;EURAUD&quot;, &quot;EURCAD&quot;, &quot;EURCHF&quot;, &quot;EURGBP&quot;, &quot;EURJPY&quot;, &quot;EURNOK&quot;, &quot;EURNZD&quot;, &quot;EURTRY&quot;, &quot;EURUSD&quot;, &quot;EURZAR&quot;]}, &quot;title&quot;: {&quot;text&quot;: &quot;EUR&quot;}, &quot;series&quot;: {}, &quot;labels&quot;: {}, &quot;yAxis&quot;: {&quot;title&quot;: {&quot;text&quot;: &quot;Volatility&quot;}}, &quot;chart&quot;: {&quot;renderTo&quot;: &quot;container&quot;, &quot;type&quot;: &quot;columnrange&quot;, &quot;inverted&quot;: true}, &quot;tooltip&quot;: {&quot;valueSuffix&quot;: &quot;%&quot;}, &quot;plotOptions&quot;: {&quot;columnrange&quot;: {&quot;dataLabels&quot;: {&quot;enabled&quot;: true, &quot;format&quot;: &quot;{y}%&quot;}}}, &quot;credits&quot;: {&quot;enabled&quot;: false}, &quot;colors&quot;: {}, &quot;pane&quot;: {}, &quot;exporting&quot;: {}, &quot;drilldown&quot;: {}, &quot;navigation&quot;: {}, &quot;legend&quot;: {&quot;enabled&quot;: false}}; var chart = new Highcharts.Chart(option); var data = [{&quot;data&quot;: [[-1.32, 1.0], [-0.4, 0.79], [-0.55, 0.77], [-0.45, 0.81], [-0.9, 0.79], [-0.59, 0.92], [-0.43, 0.44], [-0.35, 0.35], [-1.02, 0.46], [-0.44, 0.66]], &quot;type&quot;: &quot;columnrange&quot;, &quot;name&quot;: &quot;Volatility&quot;}]; var dataLen = data.length; for (var ix = 0; ix &lt; dataLen; ix++) { chart.addSeries(data[ix]); } }); &lt;/script&gt; &lt;/body&gt; &lt;/html&gt;\" height=520 width=820></iframe>"
      ],
      "text/plain": [
       "<highcharts.highcharts.highcharts.Highchart at 0x7ff3f087b7d0>"
      ]
     },
     "execution_count": 5,
     "metadata": {},
     "output_type": "execute_result"
    }
   ],
   "source": [
    "volatility_bars(\"EUR\", pairs)"
   ]
  },
  {
   "cell_type": "code",
   "execution_count": 6,
   "metadata": {},
   "outputs": [
    {
     "data": {
      "text/html": [
       "<iframe style=\"border:0;outline:none;overflow:hidden\" srcdoc=\"&lt;!DOCTYPE html&gt; &lt;html lang=&quot;en&quot;&gt; &lt;head&gt; &lt;meta charset=&quot;utf-8&quot; /&gt; &lt;link href=&quot;https://www.highcharts.com/highslide/highslide.css&quot; rel=&quot;stylesheet&quot; /&gt; &lt;script type=&quot;text/javascript&quot; src=&quot;https://ajax.googleapis.com/ajax/libs/jquery/1.9.1/jquery.min.js&quot;&gt;&lt;/script&gt; &lt;script type=&quot;text/javascript&quot; src=&quot;https://code.highcharts.com/highcharts.js&quot;&gt;&lt;/script&gt; &lt;script type=&quot;text/javascript&quot; src=&quot;https://code.highcharts.com/highcharts-more.js&quot;&gt;&lt;/script&gt; &lt;script type=&quot;text/javascript&quot; src=&quot;https://code.highcharts.com/modules/heatmap.js&quot;&gt;&lt;/script&gt; &lt;script type=&quot;text/javascript&quot; src=&quot;https://code.highcharts.com/modules/exporting.js&quot;&gt;&lt;/script&gt; &lt;/head&gt; &lt;body style=&quot;margin:0;padding:0&quot;&gt; &lt;div id=&quot;container&quot; style=&quot;&quot;&gt;Loading....&lt;/div&gt; &lt;script&gt; $(function(){ Highcharts.setOptions({&quot;lang&quot;: {}, &quot;global&quot;: {}}); var option = {&quot;loading&quot;: {}, &quot;subtitle&quot;: {}, &quot;xAxis&quot;: {&quot;categories&quot;: [&quot;AUDUSD&quot;, &quot;EURUSD&quot;, &quot;GBPUSD&quot;, &quot;NZDUSD&quot;, &quot;USDCAD&quot;, &quot;USDCHF&quot;, &quot;USDJPY&quot;, &quot;USDMXN&quot;, &quot;USDNOK&quot;, &quot;USDRUB&quot;, &quot;USDSEK&quot;, &quot;USDSGD&quot;, &quot;USDTRY&quot;, &quot;USDZAR&quot;, &quot;XAGUSD&quot;, &quot;XAUUSD&quot;]}, &quot;title&quot;: {&quot;text&quot;: &quot;USD&quot;}, &quot;series&quot;: {}, &quot;labels&quot;: {}, &quot;yAxis&quot;: {&quot;title&quot;: {&quot;text&quot;: &quot;Volatility&quot;}}, &quot;chart&quot;: {&quot;renderTo&quot;: &quot;container&quot;, &quot;type&quot;: &quot;columnrange&quot;, &quot;inverted&quot;: true}, &quot;tooltip&quot;: {&quot;valueSuffix&quot;: &quot;%&quot;}, &quot;plotOptions&quot;: {&quot;columnrange&quot;: {&quot;dataLabels&quot;: {&quot;enabled&quot;: true, &quot;format&quot;: &quot;{y}%&quot;}}}, &quot;credits&quot;: {&quot;enabled&quot;: false}, &quot;colors&quot;: {}, &quot;pane&quot;: {}, &quot;exporting&quot;: {}, &quot;drilldown&quot;: {}, &quot;navigation&quot;: {}, &quot;legend&quot;: {&quot;enabled&quot;: false}}; var chart = new Highcharts.Chart(option); var data = [{&quot;data&quot;: [[-2.15, 1.11], [-1.02, 0.46], [-0.61, 1.04], [-1.09, 0.59], [-0.57, 1.49], [-0.57, 1.45], [-3.13, 0.72], [-0.61, 0.78], [-0.7, 2.18], [-0.57, 1.05], [-0.56, 2.01], [-0.5, 0.82], [-0.62, 0.87], [-0.74, 0.95], [-3.55, 1.95], [-1.35, 0.79]], &quot;type&quot;: &quot;columnrange&quot;, &quot;name&quot;: &quot;Volatility&quot;}]; var dataLen = data.length; for (var ix = 0; ix &lt; dataLen; ix++) { chart.addSeries(data[ix]); } }); &lt;/script&gt; &lt;/body&gt; &lt;/html&gt;\" height=520 width=820></iframe>"
      ],
      "text/plain": [
       "<highcharts.highcharts.highcharts.Highchart at 0x7ff3c01d8d50>"
      ]
     },
     "execution_count": 6,
     "metadata": {},
     "output_type": "execute_result"
    }
   ],
   "source": [
    "volatility_bars(\"USD\", pairs)"
   ]
  }
 ],
 "metadata": {
  "kernelspec": {
   "display_name": "Python 2",
   "language": "python",
   "name": "python2"
  },
  "language_info": {
   "codemirror_mode": {
    "name": "ipython",
    "version": 2
   },
   "file_extension": ".py",
   "mimetype": "text/x-python",
   "name": "python",
   "nbconvert_exporter": "python",
   "pygments_lexer": "ipython2",
   "version": "2.7.14"
  }
 },
 "nbformat": 4,
 "nbformat_minor": 2
}
