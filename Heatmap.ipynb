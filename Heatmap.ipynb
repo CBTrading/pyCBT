{
 "cells": [
  {
   "cell_type": "code",
   "execution_count": 1,
   "metadata": {},
   "outputs": [],
   "source": [
    "from collections import OrderedDict\n",
    "from itertools import product\n",
    "from pyCBT.data.providers.mt.pairs import get_mt_pairs\n",
    "from highcharts import Highchart\n",
    "\n",
    "import ffn\n",
    "\n",
    "np = ffn.core.np\n",
    "pd = ffn.data.pd\n",
    "plt = ffn.core.plt"
   ]
  },
  {
   "cell_type": "code",
   "execution_count": 13,
   "metadata": {},
   "outputs": [],
   "source": [
    "# define constants\n",
    "# time frame in periods/minutes (because data is sampled in minutes)\n",
    "TIME_FRAME = 5*30\n",
    "# define target price\n",
    "PRICE = \"CLOSE\"\n",
    "# define volume column\n",
    "VOLUME = \"VOLUME\"\n",
    "\n",
    "pairs = get_mt_pairs()\n",
    "\n",
    "PAIRS = pairs.keys()\n",
    "CURRENCIES = np.unique([currency for pair in PAIRS for currency in [pair[:3], pair[3:]]])\n",
    "\n",
    "# extract price for each instrument\n",
    "price = pd.DataFrame(index=range(5*TIME_FRAME))\n",
    "for pair_name in PAIRS: price[pair_name] = pairs[pair_name].filter(like=PRICE).values[-5*TIME_FRAME:]\n",
    "\n",
    "# compute heatmap\n",
    "H = pd.DataFrame(data=np.nan, index=CURRENCIES, columns=CURRENCIES)\n",
    "for i, j in product(range(len(CURRENCIES)), range(len(CURRENCIES))):\n",
    "    if CURRENCIES[i] == CURRENCIES[j]: continue\n",
    "    pair_name = \"{}{}\".format(CURRENCIES[j], CURRENCIES[i])\n",
    "\n",
    "    # compute exchange rate of j/i\n",
    "    if pair_name in PAIRS:\n",
    "        ex_rate = price[pair_name]\n",
    "    else:\n",
    "        continue\n",
    "        # get j/USD\n",
    "        if \"USD{}\".format(CURRENCIES[j]) in PAIRS:\n",
    "            price_j = 1.0 / price[\"USD{}\".format(CURRENCIES[j])]\n",
    "        elif \"{}USD\".format(CURRENCIES[j]) in PAIRS:\n",
    "            price_j = price[\"{}USD\".format(CURRENCIES[j])]\n",
    "        # get i/USD\n",
    "        if \"USD{}\".format(CURRENCIES[i]) in PAIRS:\n",
    "            price_i = 1.0 / price[\"USD{}\".format(CURRENCIES[i])]\n",
    "        elif \"{}USD\".format(CURRENCIES[i]) in PAIRS:\n",
    "            price_i = price[\"{}USD\".format(CURRENCIES[i])]\n",
    "\n",
    "        ex_rate = price_j / price_i\n",
    "\n",
    "    H.loc[CURRENCIES[i]][CURRENCIES[j]] = (ex_rate.iloc[-1] - ex_rate.iloc[-TIME_FRAME]) / ex_rate.iloc[-TIME_FRAME] * 100.0"
   ]
  },
  {
   "cell_type": "code",
   "execution_count": 15,
   "metadata": {},
   "outputs": [
    {
     "data": {
      "text/html": [
       "<iframe style=\"border:0;outline:none;overflow:hidden\" srcdoc=\"&lt;!DOCTYPE html&gt; &lt;html lang=&quot;en&quot;&gt; &lt;head&gt; &lt;meta charset=&quot;utf-8&quot; /&gt; &lt;link href=&quot;https://www.highcharts.com/highslide/highslide.css&quot; rel=&quot;stylesheet&quot; /&gt; &lt;script type=&quot;text/javascript&quot; src=&quot;https://ajax.googleapis.com/ajax/libs/jquery/1.9.1/jquery.min.js&quot;&gt;&lt;/script&gt; &lt;script type=&quot;text/javascript&quot; src=&quot;https://code.highcharts.com/highcharts.js&quot;&gt;&lt;/script&gt; &lt;script type=&quot;text/javascript&quot; src=&quot;https://code.highcharts.com/highcharts-more.js&quot;&gt;&lt;/script&gt; &lt;script type=&quot;text/javascript&quot; src=&quot;https://code.highcharts.com/modules/heatmap.js&quot;&gt;&lt;/script&gt; &lt;script type=&quot;text/javascript&quot; src=&quot;https://code.highcharts.com/modules/exporting.js&quot;&gt;&lt;/script&gt; &lt;/head&gt; &lt;body style=&quot;margin:0;padding:0&quot;&gt; &lt;div id=&quot;container&quot; style=&quot;&quot;&gt;Loading....&lt;/div&gt; &lt;script&gt; $(function(){ Highcharts.setOptions({&quot;lang&quot;: {}, &quot;global&quot;: {}}); var option = {&quot;loading&quot;: {}, &quot;subtitle&quot;: {}, &quot;xAxis&quot;: [{&quot;reversed&quot;: false, &quot;labels&quot;: {&quot;step&quot;: 1}, &quot;categories&quot;: [&quot;AUDCAD&quot;, &quot;AUDCHF&quot;, &quot;AUDJPY&quot;, &quot;AUDNZD&quot;, &quot;AUDUSD&quot;, &quot;CADCHF&quot;, &quot;CADJPY&quot;, &quot;CHFJPY&quot;, &quot;EURAUD&quot;, &quot;EURCAD&quot;, &quot;EURCHF&quot;, &quot;EURGBP&quot;, &quot;EURJPY&quot;, &quot;EURNOK&quot;, &quot;EURNZD&quot;, &quot;EURTRY&quot;, &quot;EURUSD&quot;, &quot;EURZAR&quot;, &quot;GBPAUD&quot;, &quot;GBPCAD&quot;, &quot;GBPCHF&quot;, &quot;GBPJPY&quot;, &quot;GBPNZD&quot;, &quot;GBPUSD&quot;, &quot;NZDCAD&quot;, &quot;NZDCHF&quot;, &quot;NZDJPY&quot;, &quot;NZDUSD&quot;, &quot;USDCAD&quot;, &quot;USDCHF&quot;, &quot;USDJPY&quot;, &quot;USDMXN&quot;, &quot;USDNOK&quot;, &quot;USDRUB&quot;, &quot;USDSEK&quot;, &quot;USDSGD&quot;, &quot;USDTRY&quot;, &quot;USDZAR&quot;, &quot;XAGUSD&quot;, &quot;XAUUSD&quot;]}, {&quot;linkedTo&quot;: 0, &quot;reversed&quot;: false, &quot;labels&quot;: {&quot;step&quot;: 1}, &quot;categories&quot;: [&quot;AUDCAD&quot;, &quot;AUDCHF&quot;, &quot;AUDJPY&quot;, &quot;AUDNZD&quot;, &quot;AUDUSD&quot;, &quot;CADCHF&quot;, &quot;CADJPY&quot;, &quot;CHFJPY&quot;, &quot;EURAUD&quot;, &quot;EURCAD&quot;, &quot;EURCHF&quot;, &quot;EURGBP&quot;, &quot;EURJPY&quot;, &quot;EURNOK&quot;, &quot;EURNZD&quot;, &quot;EURTRY&quot;, &quot;EURUSD&quot;, &quot;EURZAR&quot;, &quot;GBPAUD&quot;, &quot;GBPCAD&quot;, &quot;GBPCHF&quot;, &quot;GBPJPY&quot;, &quot;GBPNZD&quot;, &quot;GBPUSD&quot;, &quot;NZDCAD&quot;, &quot;NZDCHF&quot;, &quot;NZDJPY&quot;, &quot;NZDUSD&quot;, &quot;USDCAD&quot;, &quot;USDCHF&quot;, &quot;USDJPY&quot;, &quot;USDMXN&quot;, &quot;USDNOK&quot;, &quot;USDRUB&quot;, &quot;USDSEK&quot;, &quot;USDSGD&quot;, &quot;USDTRY&quot;, &quot;USDZAR&quot;, &quot;XAGUSD&quot;, &quot;XAUUSD&quot;], &quot;opposite&quot;: true}], &quot;title&quot;: {&quot;text&quot;: &quot;Heatmap&quot;}, &quot;series&quot;: {}, &quot;labels&quot;: {}, &quot;yAxis&quot;: {&quot;title&quot;: {&quot;text&quot;: null}}, &quot;chart&quot;: {&quot;renderTo&quot;: &quot;container&quot;, &quot;type&quot;: &quot;bar&quot;}, &quot;tooltip&quot;: {&quot;formatter&quot;: function () { return &#x27;&lt;b&gt;&#x27; + this.point.category + &#x27;&lt;/b&gt;&lt;br/&gt;&#x27; + Highcharts.numberFormat(this.point.y, 2); }}, &quot;plotOptions&quot;: {&quot;series&quot;: {&quot;stacking&quot;: &quot;normal&quot;}}, &quot;credits&quot;: {&quot;enabled&quot;: false}, &quot;colors&quot;: {}, &quot;pane&quot;: {}, &quot;exporting&quot;: {}, &quot;drilldown&quot;: {}, &quot;navigation&quot;: {}, &quot;legend&quot;: {}}; var chart = new Highcharts.Chart(option); var data = [{&quot;data&quot;: [-0.1, -0.09, 0.0, 0.0, 0.0, 0.0, 0.0, 0.0, 0.0, 0.0, 0.0, 0.0, 0.0, 0.0, 0.0, 0.0, 0.0, 0.0, 0.0, 0.0, -0.01, 0.0, 0.0, 0.0, -0.11, 0.0, 0.0, 0.0, -0.09, 0.0, 0.0, 0.0, 0.0], &quot;type&quot;: &quot;bar&quot;, &quot;name&quot;: &quot;Series 1&quot;}, {&quot;data&quot;: [0.0, 0.0, 0.08, 0.0, 0.0, 0.0, 0.0, 0.0, 0.0, 0.0, 0.0, 0.0, 0.0, 0.0, 0.0, 0.0, 0.0, 0.0, 0.0, 0.0, 0.0, 0.04, 0.0, 0.02, 0.0, 0.0, 0.0, 0.0, 0.0, 0.26, 0.0, 0.0, 0.03], &quot;type&quot;: &quot;bar&quot;, &quot;name&quot;: &quot;Series 2&quot;}]; var dataLen = data.length; for (var ix = 0; ix &lt; dataLen; ix++) { chart.addSeries(data[ix]); } }); &lt;/script&gt; &lt;/body&gt; &lt;/html&gt;\" height=520 width=820></iframe>"
      ],
      "text/plain": [
       "<highcharts.highcharts.highcharts.Highchart at 0x7f017800a350>"
      ]
     },
     "execution_count": 15,
     "metadata": {},
     "output_type": "execute_result"
    }
   ],
   "source": [
    "chart_options = {\n",
    "    'chart': {\n",
    "        'type': 'bar'\n",
    "    },\n",
    "    'title': {\n",
    "        'text': 'Heatmap'\n",
    "    },\n",
    "    'xAxis': [{\n",
    "        'categories': PAIRS,\n",
    "        'reversed': False,\n",
    "        'labels': {\n",
    "            'step': 1\n",
    "        }\n",
    "    }, { # mirror axis on right side\n",
    "        'opposite': True,\n",
    "        'reversed': False,\n",
    "        'categories': PAIRS,\n",
    "        'linkedTo': 0,\n",
    "        'labels': {\n",
    "            'step': 1\n",
    "        }\n",
    "    }],\n",
    "    'yAxis': {\n",
    "        'title': {\n",
    "            'text': None\n",
    "        },\n",
    "    },\n",
    "\n",
    "    'plotOptions': {\n",
    "        'series': {\n",
    "            'stacking': 'normal'\n",
    "        }\n",
    "    },\n",
    "\n",
    "    'tooltip': {\n",
    "        'formatter': \"function () {\\\n",
    "            return '<b>' + this.point.category + '</b><br/>' +\\\n",
    "                Highcharts.numberFormat(this.point.y, 2);\\\n",
    "        }\"\n",
    "    }\n",
    "}\n",
    "\n",
    "dataset_1, dataset_2 = zip(*[(round(H.iloc[i][j], 2) if H.iloc[i][j] < 0.0 else 0.0, round(H.iloc[i][j], 2) if H.iloc[i][j] > 0.0 else 0.0) for i, j in product(range(len(CURRENCIES)), range(len(CURRENCIES))) if \"EUR\" in \"{}{}\".format(CURRENCIES[i], CURRENCIES[j])])\n",
    "\n",
    "chart = Highchart()\n",
    "chart.set_dict_options(chart_options)\n",
    "chart.add_data_set(dataset_1, 'bar')\n",
    "chart.add_data_set(dataset_2, 'bar')\n",
    "chart"
   ]
  }
 ],
 "metadata": {
  "kernelspec": {
   "display_name": "Python 2",
   "language": "python",
   "name": "python2"
  },
  "language_info": {
   "codemirror_mode": {
    "name": "ipython",
    "version": 2
   },
   "file_extension": ".py",
   "mimetype": "text/x-python",
   "name": "python",
   "nbconvert_exporter": "python",
   "pygments_lexer": "ipython2",
   "version": "2.7.14"
  }
 },
 "nbformat": 4,
 "nbformat_minor": 2
}
