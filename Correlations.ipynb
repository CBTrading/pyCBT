{
 "cells": [
  {
   "cell_type": "code",
   "execution_count": 1,
   "metadata": {},
   "outputs": [],
   "source": [
    "from collections import OrderedDict\n",
    "from itertools import product\n",
    "from pyCBT.data.providers.mt.pairs import get_mt_pairs\n",
    "from highcharts import Highchart\n",
    "\n",
    "import ffn\n",
    "\n",
    "np = ffn.core.np\n",
    "pd = ffn.data.pd\n",
    "plt = ffn.core.plt"
   ]
  },
  {
   "cell_type": "code",
   "execution_count": 2,
   "metadata": {},
   "outputs": [],
   "source": [
    "# define constants\n",
    "# time frame in periods/minutes (because data is sampled in minutes)\n",
    "TIME_FRAME = 30\n",
    "# define target price\n",
    "PRICE = \"CLOSE\"\n",
    "# define volume column\n",
    "VOLUME = \"VOLUME\"\n",
    "\n",
    "pairs = get_mt_pairs()\n",
    "\n",
    "PAIRS = pairs.keys()\n",
    "\n",
    "# extract price for each instrument\n",
    "price = pd.DataFrame(index=range(5*TIME_FRAME))\n",
    "for pair_name in PAIRS:\n",
    "    price[pair_name] = pairs[pair_name].filter(like=PRICE).values[-5*TIME_FRAME:]\n",
    "\n",
    "# compute correlations\n",
    "C = pd.DataFrame(data=np.nan, index=PAIRS, columns=PAIRS)\n",
    "for i, j in product(range(len(PAIRS)), range(len(PAIRS))):\n",
    "    price_i, price_j = price[PAIRS[i]][-TIME_FRAME:].values, price[PAIRS[j]][-TIME_FRAME:].values\n",
    "    C.loc[PAIRS[i]][PAIRS[j]] = np.corrcoef(price_i, price_j)[1, 0]"
   ]
  },
  {
   "cell_type": "code",
   "execution_count": 88,
   "metadata": {},
   "outputs": [],
   "source": [
    "def correlation_map(inp_pair, min_corr=None, max_corr=None):\n",
    "    # filtering\n",
    "    chart_dataset = C[inp_pair].dropna()\n",
    "    mask = np.ones(chart_dataset.shape, dtype=np.bool)\n",
    "    if min_corr is not None: mask = mask&(min_corr < abs(chart_dataset))\n",
    "    if max_corr is not None: mask = mask&(max_corr > abs(chart_dataset))\n",
    "\n",
    "    chart_dataset = chart_dataset.mask(~mask)\n",
    "    chart_categories = list(chart_dataset.index.values)\n",
    "\n",
    "    chart_options = {\n",
    "        'chart': {\n",
    "            'type': 'heatmap',\n",
    "            'marginTop': 40,\n",
    "            'marginBottom': 80,\n",
    "            'plotBorderWidth': 1\n",
    "        },\n",
    "        'title': {\n",
    "            'text': 'Correlations'\n",
    "        },\n",
    "\n",
    "        'xAxis': {\n",
    "            'categories': inp_pair\n",
    "        },\n",
    "\n",
    "        'yAxis': {\n",
    "            'categories': chart_categories,\n",
    "            'title': {\n",
    "                'text': None\n",
    "            }\n",
    "        },\n",
    "        'colorAxis': {\n",
    "            'min': -1,\n",
    "            'max': +1,\n",
    "    #         'minColor': '#86BAED',\n",
    "            'maxColor': '#F46363',\n",
    "    #         'stops': [[-1, '#86BAED'], [0, '#FFFFFF'], [+1, '#F46363']]\n",
    "        },\n",
    "        'legend': {\n",
    "            'align': 'right',\n",
    "            'layout': 'vertical',\n",
    "            'margin': 0,\n",
    "            'verticalAlign': 'top',\n",
    "            'y': 25,\n",
    "            'symbolHeight': 280\n",
    "        },\n",
    "        'tooltip': {\n",
    "            'formatter': \"function () {\\\n",
    "                return '<b>' + this.series.xAxis.categories[this.point.x] + '</b> correlates <br><b>' +\\\n",
    "                    this.point.value + '</b> with <br><b>' + this.series.yAxis.categories[this.point.y] + '</b>';\\\n",
    "            }\"\n",
    "        }\n",
    "    }\n",
    "\n",
    "    chart_dataset = [[i, j, round(chart_dataset.iloc[j][i], 2) if chart_dataset.iloc[j][i] != np.nan else None] for i, j in product(range(len(inp_pair)), range(len(chart_categories)))]\n",
    "\n",
    "    chart = Highchart()\n",
    "    chart.set_dict_options(chart_options)\n",
    "    chart.add_data_set(chart_dataset, 'heatmap')\n",
    "    return chart"
   ]
  },
  {
   "cell_type": "code",
   "execution_count": 89,
   "metadata": {},
   "outputs": [
    {
     "data": {
      "text/html": [
       "<iframe style=\"border:0;outline:none;overflow:hidden\" srcdoc=\"&lt;!DOCTYPE html&gt; &lt;html lang=&quot;en&quot;&gt; &lt;head&gt; &lt;meta charset=&quot;utf-8&quot; /&gt; &lt;link href=&quot;https://www.highcharts.com/highslide/highslide.css&quot; rel=&quot;stylesheet&quot; /&gt; &lt;script type=&quot;text/javascript&quot; src=&quot;https://ajax.googleapis.com/ajax/libs/jquery/1.9.1/jquery.min.js&quot;&gt;&lt;/script&gt; &lt;script type=&quot;text/javascript&quot; src=&quot;https://code.highcharts.com/highcharts.js&quot;&gt;&lt;/script&gt; &lt;script type=&quot;text/javascript&quot; src=&quot;https://code.highcharts.com/highcharts-more.js&quot;&gt;&lt;/script&gt; &lt;script type=&quot;text/javascript&quot; src=&quot;https://code.highcharts.com/modules/heatmap.js&quot;&gt;&lt;/script&gt; &lt;script type=&quot;text/javascript&quot; src=&quot;https://code.highcharts.com/modules/exporting.js&quot;&gt;&lt;/script&gt; &lt;/head&gt; &lt;body style=&quot;margin:0;padding:0&quot;&gt; &lt;div id=&quot;container&quot; style=&quot;&quot;&gt;Loading....&lt;/div&gt; &lt;script&gt; $(function(){ Highcharts.setOptions({&quot;lang&quot;: {}, &quot;global&quot;: {}}); var option = {&quot;loading&quot;: {}, &quot;subtitle&quot;: {}, &quot;xAxis&quot;: {&quot;categories&quot;: [&quot;EURUSD&quot;, &quot;EURGBP&quot;, &quot;USDJPY&quot;]}, &quot;title&quot;: {&quot;text&quot;: &quot;Correlations&quot;}, &quot;series&quot;: {}, &quot;labels&quot;: {}, &quot;yAxis&quot;: {&quot;categories&quot;: [&quot;AUDCAD&quot;, &quot;AUDCHF&quot;, &quot;AUDJPY&quot;, &quot;AUDNZD&quot;, &quot;AUDUSD&quot;, &quot;CADCHF&quot;, &quot;CADJPY&quot;, &quot;CHFJPY&quot;, &quot;EURAUD&quot;, &quot;EURCAD&quot;, &quot;EURCHF&quot;, &quot;EURGBP&quot;, &quot;EURJPY&quot;, &quot;EURNOK&quot;, &quot;EURNZD&quot;, &quot;EURTRY&quot;, &quot;EURUSD&quot;, &quot;EURZAR&quot;, &quot;GBPAUD&quot;, &quot;GBPCAD&quot;, &quot;GBPCHF&quot;, &quot;GBPJPY&quot;, &quot;GBPNZD&quot;, &quot;GBPUSD&quot;, &quot;NZDCAD&quot;, &quot;NZDCHF&quot;, &quot;NZDJPY&quot;, &quot;NZDUSD&quot;, &quot;USDCAD&quot;, &quot;USDCHF&quot;, &quot;USDJPY&quot;, &quot;USDMXN&quot;, &quot;USDNOK&quot;, &quot;USDRUB&quot;, &quot;USDSEK&quot;, &quot;USDSGD&quot;, &quot;USDTRY&quot;, &quot;USDZAR&quot;, &quot;XAGUSD&quot;, &quot;XAUUSD&quot;], &quot;title&quot;: {&quot;text&quot;: null}}, &quot;chart&quot;: {&quot;marginBottom&quot;: 80, &quot;marginTop&quot;: 40, &quot;renderTo&quot;: &quot;container&quot;, &quot;type&quot;: &quot;heatmap&quot;, &quot;plotBorderWidth&quot;: 1}, &quot;tooltip&quot;: {&quot;formatter&quot;: function () { return &#x27;&lt;b&gt;&#x27; + this.series.xAxis.categories[this.point.x] + &#x27;&lt;/b&gt; correlates &lt;br&gt;&lt;b&gt;&#x27; + this.point.value + &#x27;&lt;/b&gt; with &lt;br&gt;&lt;b&gt;&#x27; + this.series.yAxis.categories[this.point.y] + &#x27;&lt;/b&gt;&#x27;; }}, &quot;plotOptions&quot;: {}, &quot;credits&quot;: {&quot;enabled&quot;: false}, &quot;colors&quot;: {}, &quot;pane&quot;: {}, &quot;exporting&quot;: {}, &quot;drilldown&quot;: {}, &quot;navigation&quot;: {}, &quot;legend&quot;: {&quot;symbolHeight&quot;: 280, &quot;layout&quot;: &quot;vertical&quot;, &quot;y&quot;: 25, &quot;verticalAlign&quot;: &quot;top&quot;, &quot;align&quot;: &quot;right&quot;, &quot;margin&quot;: 0}, &quot;colorAxis&quot;: {&quot;max&quot;: 1, &quot;maxColor&quot;: &quot;#F46363&quot;, &quot;min&quot;: -1}}; var chart = new Highcharts.Chart(option); var data = [{&quot;data&quot;: [[0, 0, NaN], [0, 1, NaN], [0, 2, NaN], [0, 3, 0.75], [0, 4, NaN], [0, 5, NaN], [0, 6, 0.63], [0, 7, 0.6], [0, 8, NaN], [0, 9, NaN], [0, 10, NaN], [0, 11, NaN], [0, 12, NaN], [0, 13, NaN], [0, 14, 0.56], [0, 15, NaN], [0, 16, 1.0], [0, 17, NaN], [0, 18, NaN], [0, 19, NaN], [0, 20, NaN], [0, 21, NaN], [0, 22, NaN], [0, 23, NaN], [0, 24, NaN], [0, 25, NaN], [0, 26, NaN], [0, 27, NaN], [0, 28, NaN], [0, 29, NaN], [0, 30, NaN], [0, 31, NaN], [0, 32, NaN], [0, 33, NaN], [0, 34, NaN], [0, 35, NaN], [0, 36, NaN], [0, 37, NaN], [0, 38, NaN], [0, 39, NaN], [1, 0, NaN], [1, 1, NaN], [1, 2, NaN], [1, 3, NaN], [1, 4, NaN], [1, 5, NaN], [1, 6, NaN], [1, 7, NaN], [1, 8, NaN], [1, 9, NaN], [1, 10, 0.54], [1, 11, 1.0], [1, 12, NaN], [1, 13, NaN], [1, 14, NaN], [1, 15, -0.56], [1, 16, NaN], [1, 17, NaN], [1, 18, -0.65], [1, 19, NaN], [1, 20, NaN], [1, 21, NaN], [1, 22, -0.51], [1, 23, NaN], [1, 24, NaN], [1, 25, -0.69], [1, 26, NaN], [1, 27, NaN], [1, 28, NaN], [1, 29, NaN], [1, 30, NaN], [1, 31, NaN], [1, 32, NaN], [1, 33, 0.51], [1, 34, NaN], [1, 35, -0.61], [1, 36, -0.64], [1, 37, NaN], [1, 38, NaN], [1, 39, NaN], [2, 0, NaN], [2, 1, NaN], [2, 2, NaN], [2, 3, NaN], [2, 4, NaN], [2, 5, NaN], [2, 6, NaN], [2, 7, NaN], [2, 8, NaN], [2, 9, NaN], [2, 10, 0.57], [2, 11, NaN], [2, 12, NaN], [2, 13, NaN], [2, 14, NaN], [2, 15, NaN], [2, 16, NaN], [2, 17, NaN], [2, 18, NaN], [2, 19, NaN], [2, 20, NaN], [2, 21, NaN], [2, 22, NaN], [2, 23, NaN], [2, 24, NaN], [2, 25, NaN], [2, 26, NaN], [2, 27, NaN], [2, 28, NaN], [2, 29, NaN], [2, 30, 1.0], [2, 31, NaN], [2, 32, NaN], [2, 33, 0.58], [2, 34, NaN], [2, 35, NaN], [2, 36, NaN], [2, 37, NaN], [2, 38, NaN], [2, 39, NaN]], &quot;type&quot;: &quot;heatmap&quot;, &quot;name&quot;: &quot;Series 1&quot;}]; var dataLen = data.length; for (var ix = 0; ix &lt; dataLen; ix++) { chart.addSeries(data[ix]); } }); &lt;/script&gt; &lt;/body&gt; &lt;/html&gt;\" height=520 width=820></iframe>"
      ],
      "text/plain": [
       "<highcharts.highcharts.highcharts.Highchart at 0x7f4b9238fed0>"
      ]
     },
     "execution_count": 89,
     "metadata": {},
     "output_type": "execute_result"
    }
   ],
   "source": [
    "correlation_map(inp_pair=[\"EURUSD\", \"EURGBP\", \"USDJPY\"], min_corr=0.5)"
   ]
  },
  {
   "cell_type": "code",
   "execution_count": 67,
   "metadata": {},
   "outputs": [],
   "source": [
    "def correlation_radar(inp_pair, min_corr=None, max_corr=None):\n",
    "    # filtering\n",
    "    chart_dataset = C[inp_pair].dropna()\n",
    "    mask = np.zeros(chart_dataset.size, dtype=np.bool)\n",
    "    if min_corr is not None: mask = mask|(min_corr > abs(chart_dataset))\n",
    "    if max_corr is not None: mask = mask|(max_corr < abs(chart_dataset))\n",
    "\n",
    "    chart_dataset = chart_dataset.mask(mask).dropna().drop(inp_pair)\n",
    "    chart_categories = list(chart_dataset.index.values)\n",
    "    chart_dataset = list(chart_dataset)\n",
    "\n",
    "    chart_options = {\n",
    "\n",
    "        'chart': {\n",
    "            'polar': True,\n",
    "            'type': 'line'\n",
    "        },\n",
    "\n",
    "        'title': {\n",
    "            'text': inp_pair,\n",
    "            'x': -80\n",
    "        },\n",
    "\n",
    "        'pane': {\n",
    "            'size': '80%'\n",
    "        },\n",
    "\n",
    "        'xAxis': {\n",
    "            'categories': chart_categories,\n",
    "            'tickmarkPlacement': 'on',\n",
    "            'lineWidth': 0\n",
    "        },\n",
    "\n",
    "        'yAxis': {\n",
    "            'gridLineInterpolation': 'polygon',\n",
    "            'lineWidth': 0,\n",
    "            'min': 0,\n",
    "            'max': 1\n",
    "        },\n",
    "\n",
    "        'tooltip': {\n",
    "            'shared': True,\n",
    "            'pointFormat': '<span style=\"color:{series.color}\">{point.y:,.2f}<br/>'\n",
    "        },\n",
    "\n",
    "        'legend': {\n",
    "            'align': 'right',\n",
    "            'verticalAlign': 'top',\n",
    "            'y': 70,\n",
    "            'layout': 'vertical'\n",
    "        }\n",
    "    }\n",
    "\n",
    "    dataset_1, dataset_2 = zip(*[(-round(corr, 2) if corr < 0.0 else 0.0, round(corr, 2) if corr > 0.0 else 0.0) for corr in chart_dataset])\n",
    "    chart = Highchart()\n",
    "    chart.set_dict_options(chart_options)\n",
    "    chart.add_data_set(dataset_1, 'line', name=\"Negative Correlation\", pointPlacement='off')\n",
    "    chart.add_data_set(dataset_2, 'line', name=\"Positive Correlation\", pointPlacement='off')\n",
    "    return chart"
   ]
  },
  {
   "cell_type": "code",
   "execution_count": 28,
   "metadata": {},
   "outputs": [
    {
     "data": {
      "text/html": [
       "<iframe style=\"border:0;outline:none;overflow:hidden\" srcdoc=\"&lt;!DOCTYPE html&gt; &lt;html lang=&quot;en&quot;&gt; &lt;head&gt; &lt;meta charset=&quot;utf-8&quot; /&gt; &lt;link href=&quot;https://www.highcharts.com/highslide/highslide.css&quot; rel=&quot;stylesheet&quot; /&gt; &lt;script type=&quot;text/javascript&quot; src=&quot;https://ajax.googleapis.com/ajax/libs/jquery/1.9.1/jquery.min.js&quot;&gt;&lt;/script&gt; &lt;script type=&quot;text/javascript&quot; src=&quot;https://code.highcharts.com/highcharts.js&quot;&gt;&lt;/script&gt; &lt;script type=&quot;text/javascript&quot; src=&quot;https://code.highcharts.com/highcharts-more.js&quot;&gt;&lt;/script&gt; &lt;script type=&quot;text/javascript&quot; src=&quot;https://code.highcharts.com/modules/heatmap.js&quot;&gt;&lt;/script&gt; &lt;script type=&quot;text/javascript&quot; src=&quot;https://code.highcharts.com/modules/exporting.js&quot;&gt;&lt;/script&gt; &lt;/head&gt; &lt;body style=&quot;margin:0;padding:0&quot;&gt; &lt;div id=&quot;container&quot; style=&quot;&quot;&gt;Loading....&lt;/div&gt; &lt;script&gt; $(function(){ Highcharts.setOptions({&quot;lang&quot;: {}, &quot;global&quot;: {}}); var option = {&quot;loading&quot;: {}, &quot;subtitle&quot;: {}, &quot;xAxis&quot;: {&quot;lineWidth&quot;: 0, &quot;tickmarkPlacement&quot;: &quot;on&quot;, &quot;categories&quot;: [&quot;AUDCAD&quot;, &quot;AUDJPY&quot;, &quot;AUDNZD&quot;, &quot;CADCHF&quot;, &quot;CADJPY&quot;, &quot;CHFJPY&quot;, &quot;EURAUD&quot;, &quot;EURCAD&quot;, &quot;EURCHF&quot;, &quot;EURJPY&quot;, &quot;EURNZD&quot;, &quot;EURZAR&quot;, &quot;GBPAUD&quot;, &quot;GBPCAD&quot;, &quot;GBPCHF&quot;, &quot;GBPJPY&quot;, &quot;USDCAD&quot;, &quot;USDZAR&quot;]}, &quot;title&quot;: {&quot;text&quot;: &quot;EURUSD&quot;, &quot;x&quot;: -80}, &quot;series&quot;: {}, &quot;labels&quot;: {}, &quot;yAxis&quot;: {&quot;max&quot;: 1, &quot;lineWidth&quot;: 0, &quot;gridLineInterpolation&quot;: &quot;polygon&quot;, &quot;min&quot;: 0}, &quot;chart&quot;: {&quot;polar&quot;: true, &quot;renderTo&quot;: &quot;container&quot;, &quot;type&quot;: &quot;line&quot;}, &quot;tooltip&quot;: {&quot;shared&quot;: true, &quot;pointFormat&quot;: &quot;&lt;span style=\\&quot;color:{series.color}\\&quot;&gt;{point.y:,.2f}&lt;br/&gt;&quot;}, &quot;plotOptions&quot;: {}, &quot;credits&quot;: {&quot;enabled&quot;: false}, &quot;colors&quot;: {}, &quot;pane&quot;: {&quot;size&quot;: &quot;80%&quot;}, &quot;exporting&quot;: {}, &quot;drilldown&quot;: {}, &quot;navigation&quot;: {}, &quot;legend&quot;: {&quot;y&quot;: 70, &quot;layout&quot;: &quot;vertical&quot;, &quot;align&quot;: &quot;right&quot;, &quot;verticalAlign&quot;: &quot;top&quot;}}; var chart = new Highcharts.Chart(option); var data = [{&quot;data&quot;: [0.0, 0.0, 0.0, 0.0, 0.0, 0.0, 0.0, 0.0, 0.0, 0.0, 0.0, 0.35, 0.0, 0.0, 0.0, 0.0, 0.0, 0.4], &quot;type&quot;: &quot;line&quot;, &quot;name&quot;: &quot;Negative Correlation&quot;, &quot;pointPlacement&quot;: &quot;off&quot;}, {&quot;data&quot;: [0.48, 0.37, 0.75, 0.38, 0.63, 0.6, 0.31, 0.45, 0.43, 0.41, 0.56, 0.0, 0.34, 0.28, 0.42, 0.44, 0.36, 0.0], &quot;type&quot;: &quot;line&quot;, &quot;name&quot;: &quot;Positive Correlation&quot;, &quot;pointPlacement&quot;: &quot;off&quot;}]; var dataLen = data.length; for (var ix = 0; ix &lt; dataLen; ix++) { chart.addSeries(data[ix]); } }); &lt;/script&gt; &lt;/body&gt; &lt;/html&gt;\" height=520 width=820></iframe>"
      ],
      "text/plain": [
       "<highcharts.highcharts.highcharts.Highchart at 0x7f4b9269bdd0>"
      ]
     },
     "execution_count": 28,
     "metadata": {},
     "output_type": "execute_result"
    }
   ],
   "source": [
    "charts = [correlation_radar(pair, min_corr=0.25, max_corr=1.0) for pair in [\"EURUSD\", \"EURGBP\", \"USDJPY\"]]\n",
    "charts[0]"
   ]
  },
  {
   "cell_type": "code",
   "execution_count": 29,
   "metadata": {},
   "outputs": [
    {
     "data": {
      "text/html": [
       "<iframe style=\"border:0;outline:none;overflow:hidden\" srcdoc=\"&lt;!DOCTYPE html&gt; &lt;html lang=&quot;en&quot;&gt; &lt;head&gt; &lt;meta charset=&quot;utf-8&quot; /&gt; &lt;link href=&quot;https://www.highcharts.com/highslide/highslide.css&quot; rel=&quot;stylesheet&quot; /&gt; &lt;script type=&quot;text/javascript&quot; src=&quot;https://ajax.googleapis.com/ajax/libs/jquery/1.9.1/jquery.min.js&quot;&gt;&lt;/script&gt; &lt;script type=&quot;text/javascript&quot; src=&quot;https://code.highcharts.com/highcharts.js&quot;&gt;&lt;/script&gt; &lt;script type=&quot;text/javascript&quot; src=&quot;https://code.highcharts.com/highcharts-more.js&quot;&gt;&lt;/script&gt; &lt;script type=&quot;text/javascript&quot; src=&quot;https://code.highcharts.com/modules/heatmap.js&quot;&gt;&lt;/script&gt; &lt;script type=&quot;text/javascript&quot; src=&quot;https://code.highcharts.com/modules/exporting.js&quot;&gt;&lt;/script&gt; &lt;/head&gt; &lt;body style=&quot;margin:0;padding:0&quot;&gt; &lt;div id=&quot;container&quot; style=&quot;&quot;&gt;Loading....&lt;/div&gt; &lt;script&gt; $(function(){ Highcharts.setOptions({&quot;lang&quot;: {}, &quot;global&quot;: {}}); var option = {&quot;loading&quot;: {}, &quot;subtitle&quot;: {}, &quot;xAxis&quot;: {&quot;lineWidth&quot;: 0, &quot;tickmarkPlacement&quot;: &quot;on&quot;, &quot;categories&quot;: [&quot;AUDCAD&quot;, &quot;CADCHF&quot;, &quot;EURAUD&quot;, &quot;EURCHF&quot;, &quot;EURNOK&quot;, &quot;EURNZD&quot;, &quot;EURTRY&quot;, &quot;GBPAUD&quot;, &quot;GBPCAD&quot;, &quot;GBPCHF&quot;, &quot;GBPNZD&quot;, &quot;NZDCAD&quot;, &quot;NZDCHF&quot;, &quot;NZDJPY&quot;, &quot;USDCAD&quot;, &quot;USDJPY&quot;, &quot;USDMXN&quot;, &quot;USDNOK&quot;, &quot;USDRUB&quot;, &quot;USDSGD&quot;, &quot;USDTRY&quot;, &quot;XAGUSD&quot;]}, &quot;title&quot;: {&quot;text&quot;: &quot;EURGBP&quot;, &quot;x&quot;: -80}, &quot;series&quot;: {}, &quot;labels&quot;: {}, &quot;yAxis&quot;: {&quot;max&quot;: 1, &quot;lineWidth&quot;: 0, &quot;gridLineInterpolation&quot;: &quot;polygon&quot;, &quot;min&quot;: 0}, &quot;chart&quot;: {&quot;polar&quot;: true, &quot;renderTo&quot;: &quot;container&quot;, &quot;type&quot;: &quot;line&quot;}, &quot;tooltip&quot;: {&quot;shared&quot;: true, &quot;pointFormat&quot;: &quot;&lt;span style=\\&quot;color:{series.color}\\&quot;&gt;{point.y:,.2f}&lt;br/&gt;&quot;}, &quot;plotOptions&quot;: {}, &quot;credits&quot;: {&quot;enabled&quot;: false}, &quot;colors&quot;: {}, &quot;pane&quot;: {&quot;size&quot;: &quot;80%&quot;}, &quot;exporting&quot;: {}, &quot;drilldown&quot;: {}, &quot;navigation&quot;: {}, &quot;legend&quot;: {&quot;y&quot;: 70, &quot;layout&quot;: &quot;vertical&quot;, &quot;align&quot;: &quot;right&quot;, &quot;verticalAlign&quot;: &quot;top&quot;}}; var chart = new Highcharts.Chart(option); var data = [{&quot;data&quot;: [0.33, 0.3, 0.48, 0.0, 0.28, 0.49, 0.56, 0.65, 0.4, 0.32, 0.51, 0.36, 0.69, 0.28, 0.43, 0.0, 0.36, 0.3, 0.0, 0.61, 0.64, 0.27], &quot;type&quot;: &quot;line&quot;, &quot;name&quot;: &quot;Negative Correlation&quot;, &quot;pointPlacement&quot;: &quot;off&quot;}, {&quot;data&quot;: [0.0, 0.0, 0.0, 0.54, 0.0, 0.0, 0.0, 0.0, 0.0, 0.0, 0.0, 0.0, 0.0, 0.0, 0.0, 0.42, 0.0, 0.0, 0.51, 0.0, 0.0, 0.0], &quot;type&quot;: &quot;line&quot;, &quot;name&quot;: &quot;Positive Correlation&quot;, &quot;pointPlacement&quot;: &quot;off&quot;}]; var dataLen = data.length; for (var ix = 0; ix &lt; dataLen; ix++) { chart.addSeries(data[ix]); } }); &lt;/script&gt; &lt;/body&gt; &lt;/html&gt;\" height=520 width=820></iframe>"
      ],
      "text/plain": [
       "<highcharts.highcharts.highcharts.Highchart at 0x7f4b926b3dd0>"
      ]
     },
     "execution_count": 29,
     "metadata": {},
     "output_type": "execute_result"
    }
   ],
   "source": [
    "charts[1]"
   ]
  },
  {
   "cell_type": "code",
   "execution_count": 30,
   "metadata": {},
   "outputs": [
    {
     "data": {
      "text/html": [
       "<iframe style=\"border:0;outline:none;overflow:hidden\" srcdoc=\"&lt;!DOCTYPE html&gt; &lt;html lang=&quot;en&quot;&gt; &lt;head&gt; &lt;meta charset=&quot;utf-8&quot; /&gt; &lt;link href=&quot;https://www.highcharts.com/highslide/highslide.css&quot; rel=&quot;stylesheet&quot; /&gt; &lt;script type=&quot;text/javascript&quot; src=&quot;https://ajax.googleapis.com/ajax/libs/jquery/1.9.1/jquery.min.js&quot;&gt;&lt;/script&gt; &lt;script type=&quot;text/javascript&quot; src=&quot;https://code.highcharts.com/highcharts.js&quot;&gt;&lt;/script&gt; &lt;script type=&quot;text/javascript&quot; src=&quot;https://code.highcharts.com/highcharts-more.js&quot;&gt;&lt;/script&gt; &lt;script type=&quot;text/javascript&quot; src=&quot;https://code.highcharts.com/modules/heatmap.js&quot;&gt;&lt;/script&gt; &lt;script type=&quot;text/javascript&quot; src=&quot;https://code.highcharts.com/modules/exporting.js&quot;&gt;&lt;/script&gt; &lt;/head&gt; &lt;body style=&quot;margin:0;padding:0&quot;&gt; &lt;div id=&quot;container&quot; style=&quot;&quot;&gt;Loading....&lt;/div&gt; &lt;script&gt; $(function(){ Highcharts.setOptions({&quot;lang&quot;: {}, &quot;global&quot;: {}}); var option = {&quot;loading&quot;: {}, &quot;subtitle&quot;: {}, &quot;xAxis&quot;: {&quot;lineWidth&quot;: 0, &quot;tickmarkPlacement&quot;: &quot;on&quot;, &quot;categories&quot;: [&quot;AUDCHF&quot;, &quot;AUDUSD&quot;, &quot;CADCHF&quot;, &quot;CADJPY&quot;, &quot;CHFJPY&quot;, &quot;EURCAD&quot;, &quot;EURCHF&quot;, &quot;EURGBP&quot;, &quot;EURTRY&quot;, &quot;EURZAR&quot;, &quot;NZDUSD&quot;, &quot;USDCHF&quot;, &quot;USDNOK&quot;, &quot;USDRUB&quot;, &quot;USDSGD&quot;, &quot;USDZAR&quot;, &quot;XAUUSD&quot;]}, &quot;title&quot;: {&quot;text&quot;: &quot;USDJPY&quot;, &quot;x&quot;: -80}, &quot;series&quot;: {}, &quot;labels&quot;: {}, &quot;yAxis&quot;: {&quot;max&quot;: 1, &quot;lineWidth&quot;: 0, &quot;gridLineInterpolation&quot;: &quot;polygon&quot;, &quot;min&quot;: 0}, &quot;chart&quot;: {&quot;polar&quot;: true, &quot;renderTo&quot;: &quot;container&quot;, &quot;type&quot;: &quot;line&quot;}, &quot;tooltip&quot;: {&quot;shared&quot;: true, &quot;pointFormat&quot;: &quot;&lt;span style=\\&quot;color:{series.color}\\&quot;&gt;{point.y:,.2f}&lt;br/&gt;&quot;}, &quot;plotOptions&quot;: {}, &quot;credits&quot;: {&quot;enabled&quot;: false}, &quot;colors&quot;: {}, &quot;pane&quot;: {&quot;size&quot;: &quot;80%&quot;}, &quot;exporting&quot;: {}, &quot;drilldown&quot;: {}, &quot;navigation&quot;: {}, &quot;legend&quot;: {&quot;y&quot;: 70, &quot;layout&quot;: &quot;vertical&quot;, &quot;align&quot;: &quot;right&quot;, &quot;verticalAlign&quot;: &quot;top&quot;}}; var chart = new Highcharts.Chart(option); var data = [{&quot;data&quot;: [0.0, 0.28, 0.0, 0.0, 0.0, 0.0, 0.0, 0.0, 0.34, 0.0, 0.46, 0.0, 0.0, 0.0, 0.44, 0.0, 0.27], &quot;type&quot;: &quot;line&quot;, &quot;name&quot;: &quot;Negative Correlation&quot;, &quot;pointPlacement&quot;: &quot;off&quot;}, {&quot;data&quot;: [0.5, 0.0, 0.26, 0.41, 0.26, 0.26, 0.57, 0.42, 0.0, 0.3, 0.0, 0.32, 0.44, 0.58, 0.0, 0.33, 0.0], &quot;type&quot;: &quot;line&quot;, &quot;name&quot;: &quot;Positive Correlation&quot;, &quot;pointPlacement&quot;: &quot;off&quot;}]; var dataLen = data.length; for (var ix = 0; ix &lt; dataLen; ix++) { chart.addSeries(data[ix]); } }); &lt;/script&gt; &lt;/body&gt; &lt;/html&gt;\" height=520 width=820></iframe>"
      ],
      "text/plain": [
       "<highcharts.highcharts.highcharts.Highchart at 0x7f4b925fe2d0>"
      ]
     },
     "execution_count": 30,
     "metadata": {},
     "output_type": "execute_result"
    }
   ],
   "source": [
    "charts[2]"
   ]
  }
 ],
 "metadata": {
  "kernelspec": {
   "display_name": "Python 2",
   "language": "python",
   "name": "python2"
  },
  "language_info": {
   "codemirror_mode": {
    "name": "ipython",
    "version": 2
   },
   "file_extension": ".py",
   "mimetype": "text/x-python",
   "name": "python",
   "nbconvert_exporter": "python",
   "pygments_lexer": "ipython2",
   "version": "2.7.14"
  }
 },
 "nbformat": 4,
 "nbformat_minor": 2
}
