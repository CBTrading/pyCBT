{
 "cells": [
  {
   "cell_type": "code",
   "execution_count": 1,
   "metadata": {},
   "outputs": [],
   "source": [
    "from collections import OrderedDict\n",
    "from itertools import product\n",
    "from pyCBT.data.providers.mt.pairs import get_mt_pairs\n",
    "from highcharts import Highchart\n",
    "\n",
    "import ffn\n",
    "\n",
    "np = ffn.core.np\n",
    "pd = ffn.data.pd\n",
    "plt = ffn.core.plt"
   ]
  },
  {
   "cell_type": "code",
   "execution_count": 2,
   "metadata": {},
   "outputs": [],
   "source": [
    "# define constants\n",
    "# time frame in periods/minutes (because data is sampled in minutes)\n",
    "TIME_FRAME = 30\n",
    "# define target price\n",
    "PRICE = \"CLOSE\"\n",
    "# define volume column\n",
    "VOLUME = \"VOLUME\"\n",
    "\n",
    "pairs = get_mt_pairs()\n",
    "\n",
    "PAIRS = pairs.keys()[:10]\n",
    "\n",
    "# extract price for each instrument\n",
    "price = pd.DataFrame(index=range(5*TIME_FRAME))\n",
    "for pair_name in PAIRS:\n",
    "    price[pair_name] = pairs[pair_name].filter(like=PRICE).values[-5*TIME_FRAME:]\n",
    "\n",
    "# compute correlations\n",
    "C = pd.DataFrame(data=np.nan, index=PAIRS, columns=PAIRS)\n",
    "for i, j in product(range(len(PAIRS)), range(len(PAIRS))):\n",
    "    price_i, price_j = price[PAIRS[i]][-TIME_FRAME:].values, price[PAIRS[j]][-TIME_FRAME:].values\n",
    "    C.loc[PAIRS[i]][PAIRS[j]] = np.corrcoef(price_i, price_j)[1, 0]"
   ]
  },
  {
   "cell_type": "code",
   "execution_count": 4,
   "metadata": {},
   "outputs": [
    {
     "data": {
      "text/html": [
       "<iframe style=\"border:0;outline:none;overflow:hidden\" srcdoc=\"&lt;!DOCTYPE html&gt; &lt;html lang=&quot;en&quot;&gt; &lt;head&gt; &lt;meta charset=&quot;utf-8&quot; /&gt; &lt;link href=&quot;https://www.highcharts.com/highslide/highslide.css&quot; rel=&quot;stylesheet&quot; /&gt; &lt;script type=&quot;text/javascript&quot; src=&quot;https://ajax.googleapis.com/ajax/libs/jquery/1.9.1/jquery.min.js&quot;&gt;&lt;/script&gt; &lt;script type=&quot;text/javascript&quot; src=&quot;https://code.highcharts.com/highcharts.js&quot;&gt;&lt;/script&gt; &lt;script type=&quot;text/javascript&quot; src=&quot;https://code.highcharts.com/highcharts-more.js&quot;&gt;&lt;/script&gt; &lt;script type=&quot;text/javascript&quot; src=&quot;https://code.highcharts.com/modules/heatmap.js&quot;&gt;&lt;/script&gt; &lt;script type=&quot;text/javascript&quot; src=&quot;https://code.highcharts.com/modules/exporting.js&quot;&gt;&lt;/script&gt; &lt;/head&gt; &lt;body style=&quot;margin:0;padding:0&quot;&gt; &lt;div id=&quot;container&quot; style=&quot;&quot;&gt;Loading....&lt;/div&gt; &lt;script&gt; $(function(){ Highcharts.setOptions({&quot;lang&quot;: {}, &quot;global&quot;: {}}); var option = {&quot;loading&quot;: {}, &quot;subtitle&quot;: {}, &quot;xAxis&quot;: {&quot;categories&quot;: [&quot;AUDCAD&quot;, &quot;AUDCHF&quot;, &quot;AUDJPY&quot;, &quot;AUDNZD&quot;, &quot;AUDUSD&quot;, &quot;CADCHF&quot;, &quot;CADJPY&quot;, &quot;CHFJPY&quot;, &quot;EURAUD&quot;, &quot;EURCAD&quot;]}, &quot;title&quot;: {&quot;text&quot;: &quot;Correlations&quot;}, &quot;series&quot;: {}, &quot;labels&quot;: {}, &quot;yAxis&quot;: {&quot;categories&quot;: [&quot;AUDCAD&quot;, &quot;AUDCHF&quot;, &quot;AUDJPY&quot;, &quot;AUDNZD&quot;, &quot;AUDUSD&quot;, &quot;CADCHF&quot;, &quot;CADJPY&quot;, &quot;CHFJPY&quot;, &quot;EURAUD&quot;, &quot;EURCAD&quot;], &quot;title&quot;: {&quot;text&quot;: null}}, &quot;chart&quot;: {&quot;marginBottom&quot;: 80, &quot;marginTop&quot;: 40, &quot;renderTo&quot;: &quot;container&quot;, &quot;type&quot;: &quot;heatmap&quot;, &quot;plotBorderWidth&quot;: 1}, &quot;tooltip&quot;: {&quot;formatter&quot;: function () { return &#x27;&lt;b&gt;&#x27; + this.series.xAxis.categories[this.point.x] + &#x27;&lt;/b&gt; correlates &lt;br&gt;&lt;b&gt;&#x27; + this.point.value + &#x27;&lt;/b&gt; with &lt;br&gt;&lt;b&gt;&#x27; + this.series.yAxis.categories[this.point.y] + &#x27;&lt;/b&gt;&#x27;; }}, &quot;plotOptions&quot;: {}, &quot;credits&quot;: {&quot;enabled&quot;: false}, &quot;colors&quot;: {}, &quot;pane&quot;: {}, &quot;exporting&quot;: {}, &quot;drilldown&quot;: {}, &quot;navigation&quot;: {}, &quot;legend&quot;: {&quot;symbolHeight&quot;: 280, &quot;layout&quot;: &quot;vertical&quot;, &quot;y&quot;: 25, &quot;verticalAlign&quot;: &quot;top&quot;, &quot;align&quot;: &quot;right&quot;, &quot;margin&quot;: 0}, &quot;colorAxis&quot;: {&quot;max&quot;: 1, &quot;maxColor&quot;: &quot;#F46363&quot;, &quot;min&quot;: -1}}; var chart = new Highcharts.Chart(option); var data = [{&quot;name&quot;: &quot;Series 1&quot;, &quot;type&quot;: &quot;heatmap&quot;, &quot;data&quot;: [[0, 0, null], [0, 1, null], [0, 2, null], [0, 3, null], [0, 4, null], [0, 5, null], [0, 6, null], [0, 7, null], [0, 8, null], [0, 9, null], [1, 0, 0.54], [1, 1, null], [1, 2, null], [1, 3, null], [1, 4, null], [1, 5, null], [1, 6, null], [1, 7, null], [1, 8, null], [1, 9, null], [2, 0, 0.39], [2, 1, 0.19], [2, 2, null], [2, 3, null], [2, 4, null], [2, 5, null], [2, 6, null], [2, 7, null], [2, 8, null], [2, 9, null], [3, 0, 0.62], [3, 1, 0.41], [3, 2, 0.68], [3, 3, null], [3, 4, null], [3, 5, null], [3, 6, null], [3, 7, null], [3, 8, null], [3, 9, null], [4, 0, -0.41], [4, 1, -0.44], [4, 2, -0.46], [4, 3, -0.48], [4, 4, null], [4, 5, null], [4, 6, null], [4, 7, null], [4, 8, null], [4, 9, null], [5, 0, 0.66], [5, 1, 0.62], [5, 2, 0.41], [5, 3, 0.69], [5, 4, -0.54], [5, 5, null], [5, 6, null], [5, 7, null], [5, 8, null], [5, 9, null], [6, 0, 0.52], [6, 1, 0.45], [6, 2, 0.56], [6, 3, 0.81], [6, 4, -0.49], [6, 5, 0.75], [6, 6, null], [6, 7, null], [6, 8, null], [6, 9, null], [7, 0, 0.67], [7, 1, 0.34], [7, 2, 0.69], [7, 3, 0.7], [7, 4, -0.43], [7, 5, 0.63], [7, 6, 0.77], [7, 7, null], [7, 8, null], [7, 9, null], [8, 0, 0.4], [8, 1, 0.34], [8, 2, 0.32], [8, 3, 0.53], [8, 4, -0.5], [8, 5, 0.73], [8, 6, 0.65], [8, 7, 0.5], [8, 8, null], [8, 9, null], [9, 0, 0.51], [9, 1, 0.38], [9, 2, 0.8], [9, 3, 0.77], [9, 4, -0.51], [9, 5, 0.72], [9, 6, 0.71], [9, 7, 0.71], [9, 8, 0.48], [9, 9, null]], &quot;dataLabels&quot;: {&quot;color&quot;: &quot;#000000&quot;, &quot;enabled&quot;: true}}]; var dataLen = data.length; for (var ix = 0; ix &lt; dataLen; ix++) { chart.addSeries(data[ix]); } }); &lt;/script&gt; &lt;/body&gt; &lt;/html&gt;\" height=520 width=820></iframe>"
      ],
      "text/plain": [
       "<highcharts.highcharts.highcharts.Highchart at 0x7f2ebe2b2c50>"
      ]
     },
     "execution_count": 4,
     "metadata": {},
     "output_type": "execute_result"
    }
   ],
   "source": [
    "chart_options = {\n",
    "    'chart': {\n",
    "        'type': 'heatmap',\n",
    "        'marginTop': 40,\n",
    "        'marginBottom': 80,\n",
    "        'plotBorderWidth': 1\n",
    "    },\n",
    "    'title': {\n",
    "        'text': 'Correlations'\n",
    "    },\n",
    "\n",
    "    'xAxis': {\n",
    "        'categories': PAIRS\n",
    "    },\n",
    "\n",
    "    'yAxis': {\n",
    "        'categories': PAIRS,\n",
    "        'title': {\n",
    "            'text': None\n",
    "        }\n",
    "    },\n",
    "    'colorAxis': {\n",
    "        'min': -1,\n",
    "        'max': +1,\n",
    "#         'minColor': '#86BAED',\n",
    "        'maxColor': '#F46363',\n",
    "#         'stops': [[-1, '#86BAED'], [0, '#FFFFFF'], [+1, '#F46363']]\n",
    "    },\n",
    "    'legend': {\n",
    "        'align': 'right',\n",
    "        'layout': 'vertical',\n",
    "        'margin': 0,\n",
    "        'verticalAlign': 'top',\n",
    "        'y': 25,\n",
    "        'symbolHeight': 280\n",
    "    },\n",
    "    'tooltip': {\n",
    "        'formatter': \"function () {\\\n",
    "            return '<b>' + this.series.xAxis.categories[this.point.x] + '</b> correlates <br><b>' +\\\n",
    "                this.point.value + '</b> with <br><b>' + this.series.yAxis.categories[this.point.y] + '</b>';\\\n",
    "        }\"\n",
    "    }\n",
    "}\n",
    "\n",
    "chart_dataset = [[i, j, round(C.iloc[i][j],2) if i>j else None] for i, j in product(range(len(PAIRS)), range(len(PAIRS)))]\n",
    "\n",
    "chart = Highchart()\n",
    "chart.set_dict_options(chart_options)\n",
    "chart.add_data_set(chart_dataset, 'heatmap', dataLabels={'enabled': True, 'color': '#000000'})\n",
    "chart"
   ]
  }
 ],
 "metadata": {
  "kernelspec": {
   "display_name": "Python 2",
   "language": "python",
   "name": "python2"
  },
  "language_info": {
   "codemirror_mode": {
    "name": "ipython",
    "version": 2
   },
   "file_extension": ".py",
   "mimetype": "text/x-python",
   "name": "python",
   "nbconvert_exporter": "python",
   "pygments_lexer": "ipython2",
   "version": "2.7.14"
  }
 },
 "nbformat": 4,
 "nbformat_minor": 2
}
